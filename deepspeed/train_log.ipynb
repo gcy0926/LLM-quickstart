{
 "cells": [
  {
   "cell_type": "markdown",
   "metadata": {},
   "source": [
    "deepspeed --num_gpus=1 translation/run_translation.py \\\n",
    "--deepspeed config/ds_config_zero3.json \\\n",
    "--model_name_or_path t5-3b --per_device_train_batch_size 1 \\\n",
    "--output_dir output_dir --overwrite_output_dir --fp16 \\\n",
    "--do_train --max_train_samples 500 --num_train_epochs 1 \\\n",
    "--dataset_name wmt16 --dataset_config \"ro-en\" \\\n",
    "--source_lang en --target_lang ro"
   ]
  },
  {
   "cell_type": "markdown",
   "metadata": {},
   "source": [
    "# 默认参数\n",
    "![运行截图](./images/运行截图.png)\n",
    "![GPU占用截图](./images/GPU占用截图.png)\n",
    "![htop截图](./images/htop截图.png)\n",
    "\n",
    "# 修改参数stage3_max_live_parameters=2e9\n",
    "![运行截图](./images/运行截图-3B模型-调整参数.png)\n",
    "![GPU占用截图](./images/GPU占用-3B模型-调整参数.png)\n",
    "![htop截图](./images/htop-3B模型-调整参数.png)"
   ]
  },
  {
   "cell_type": "markdown",
   "metadata": {},
   "source": [
    "deepspeed --num_gpus=1 translation/run_translation.py \\\n",
    "--deepspeed config/ds_config_zero3.json \\\n",
    "--model_name_or_path t5-11b --per_device_train_batch_size 1 \\\n",
    "--output_dir output_dir --overwrite_output_dir --fp16 \\\n",
    "--do_train --max_train_samples 500 --num_train_epochs 1 \\\n",
    "--dataset_name wmt16 --dataset_config \"ro-en\" \\\n",
    "--source_lang en --target_lang ro\n",
    "\n",
    "# 11B模型size太大，购买的云空间不足，正在扩容中。"
   ]
  }
 ],
 "metadata": {
  "language_info": {
   "name": "python"
  }
 },
 "nbformat": 4,
 "nbformat_minor": 2
}
